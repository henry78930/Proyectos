{
 "cells": [
  {
   "cell_type": "markdown",
   "id": "af4f7761",
   "metadata": {},
   "source": [
    "# Pypark Curso"
   ]
  },
  {
   "cell_type": "markdown",
   "id": "6aeff61a",
   "metadata": {},
   "source": [
    "Este codigo es usado en Jupyter Notebook (o entornos similares como Google Colab) para modificar el estilo visual del área de salida usando HTML y CSS."
   ]
  },
  {
   "cell_type": "code",
   "execution_count": null,
   "id": "300e6058",
   "metadata": {
    "vscode": {
     "languageId": "plaintext"
    }
   },
   "outputs": [],
   "source": [
    "%%html\n",
    "<style>\n",
    ".output_subarea.output_text.output_stream.output_stdout > pre {\n",
    "     white-space: pre;\n",
    "}\n",
    ".p-Widget.jp-RenderedText.jp-OutputArea-output > pre {                                                \n",
    "     white-space: pre;\n",
    "}\n",
    "</style>"
   ]
  },
  {
   "cell_type": "code",
   "execution_count": null,
   "id": "15d2ff77",
   "metadata": {
    "vscode": {
     "languageId": "plaintext"
    }
   },
   "outputs": [],
   "source": []
  },
  {
   "cell_type": "code",
   "execution_count": null,
   "id": "4af52d2e",
   "metadata": {
    "vscode": {
     "languageId": "plaintext"
    }
   },
   "outputs": [],
   "source": [
    "## Importaciones generales\n",
    "import pandas as pd  # Librería de análisis de datos en Python (estructuras como DataFrame)"
   ]
  },
  {
   "cell_type": "code",
   "execution_count": null,
   "id": "dcd44eb4",
   "metadata": {
    "vscode": {
     "languageId": "plaintext"
    }
   },
   "outputs": [],
   "source": [
    "##  Sesión de Spark\n",
    "from pyspark.sql import SparkSession\n",
    "spark = SparkSession.builder.getOrCreate()  # Crea o reutiliza una sesión activa de Spark"
   ]
  },
  {
   "cell_type": "code",
   "execution_count": null,
   "id": "0a315078",
   "metadata": {
    "vscode": {
     "languageId": "plaintext"
    }
   },
   "outputs": [],
   "source": [
    "## Funciones de PySpark SQL\n",
    "\n",
    "from pyspark.sql.functions import *  # Importa todas las funciones disponibles (no recomendado en proyectos grandes)\n",
    "\n",
    "from pyspark.sql.functions import concat_ws  # Une columnas de texto con un separador (ej. \"nombre-apellido\")\n",
    "\n",
    "from pyspark.sql.functions import (\n",
    "    monotonically_increasing_id,  # Crea un ID único creciente por fila (no consecutivo)\n",
    "    rank,                         # Asigna un rango a cada fila (puede repetirse si hay empate)\n",
    "    min,                          # Devuelve el valor mínimo de una columna\n",
    "    desc,                         # Especifica orden descendente (útil para ordenamientos)\n",
    "    row_number,                   # Numera las filas sin repetir (por grupo si usas Window)\n",
    "    sequence                      # Genera una secuencia (por ejemplo, de fechas o números)\n",
    ")\n",
    "\n",
    "import pyspark.sql.functions as F  # Alias para usar funciones como F.col(), F.sum(), etc."
   ]
  },
  {
   "cell_type": "code",
   "execution_count": null,
   "id": "c1f85428",
   "metadata": {
    "vscode": {
     "languageId": "plaintext"
    }
   },
   "outputs": [],
   "source": [
    "## Tipos de datos de columnas\n",
    "from pyspark.sql.types import DecimalType, StringType  # Define tipos de columnas: decimales y texto"
   ]
  },
  {
   "cell_type": "code",
   "execution_count": null,
   "id": "c7e5bf64",
   "metadata": {
    "vscode": {
     "languageId": "plaintext"
    }
   },
   "outputs": [],
   "source": [
    "## Columnas y filas\n",
    "from pyspark.sql import Column  # Representa una columna lógica (usada en expresiones y transformaciones)\n",
    "from pyspark.sql import Row     # Permite crear filas manuales (útil para crear DataFrames desde cero)"
   ]
  },
  {
   "cell_type": "code",
   "execution_count": null,
   "id": "cbcf11bf",
   "metadata": {
    "vscode": {
     "languageId": "plaintext"
    }
   },
   "outputs": [],
   "source": [
    "# Funciones ventana (Window functions)\n",
    "from pyspark.sql import Window  # Permite aplicar funciones sobre particiones de datos (por grupo, ordenado)"
   ]
  }
 ],
 "metadata": {
  "language_info": {
   "name": "python"
  }
 },
 "nbformat": 4,
 "nbformat_minor": 5
}
