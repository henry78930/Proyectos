{
 "cells": [
  {
   "cell_type": "markdown",
   "id": "82e7fae2",
   "metadata": {},
   "source": [
    "# Curso basico de Python "
   ]
  },
  {
   "cell_type": "markdown",
   "id": "ea77795c",
   "metadata": {
    "vscode": {
     "languageId": "plaintext"
    }
   },
   "source": [
    "## Funciones principales "
   ]
  },
  {
   "cell_type": "markdown",
   "id": "541780d7",
   "metadata": {},
   "source": [
    "Comentario"
   ]
  },
  {
   "cell_type": "code",
   "execution_count": 1,
   "id": "e91377f4",
   "metadata": {},
   "outputs": [
    {
     "name": "stdout",
     "output_type": "stream",
     "text": [
      "Hola, mundo\n"
     ]
    }
   ],
   "source": [
    "print(\"Hola, mundo\")"
   ]
  },
  {
   "cell_type": "markdown",
   "id": "d8ce5b02",
   "metadata": {},
   "source": [
    "Tipos de Variables "
   ]
  },
  {
   "cell_type": "code",
   "execution_count": null,
   "id": "4933e1ea",
   "metadata": {},
   "outputs": [],
   "source": [
    "x = 5               # int\n",
    "pi = 3.14           # float\n",
    "nombre = \"Henry\"    # str\n",
    "activo = True       # bool"
   ]
  },
  {
   "cell_type": "markdown",
   "id": "7b5fb5ed",
   "metadata": {},
   "source": [
    "Estructura de Datos"
   ]
  },
  {
   "cell_type": "code",
   "execution_count": 2,
   "id": "560127b4",
   "metadata": {},
   "outputs": [],
   "source": [
    "# Listas\n",
    "lista = [1, 2, 3]\n",
    "lista.append(4)"
   ]
  },
  {
   "cell_type": "code",
   "execution_count": 4,
   "id": "b041f9f4",
   "metadata": {},
   "outputs": [
    {
     "name": "stdout",
     "output_type": "stream",
     "text": [
      "[1, 2, 3, 4]\n"
     ]
    }
   ],
   "source": []
  },
  {
   "cell_type": "code",
   "execution_count": null,
   "id": "f98508ce",
   "metadata": {},
   "outputs": [],
   "source": [
    "# Condicionales\n",
    "if x > 0:\n",
    "    print(\"Positivo\")\n",
    "elif x == 0:\n",
    "    print(\"Cero\")\n",
    "else:\n",
    "    print(\"Negativo\")\n",
    "\n",
    "# Bucles\n",
    "for i in range(5):\n",
    "    print(i)\n",
    "\n",
    "while x > 0:\n",
    "    x -= 1"
   ]
  },
  {
   "cell_type": "code",
   "execution_count": null,
   "id": "d5dac5d5",
   "metadata": {},
   "outputs": [],
   "source": []
  },
  {
   "cell_type": "code",
   "execution_count": null,
   "id": "07daae35",
   "metadata": {},
   "outputs": [],
   "source": []
  },
  {
   "cell_type": "markdown",
   "id": "d146e0cd",
   "metadata": {
    "vscode": {
     "languageId": "plaintext"
    }
   },
   "source": [
    "## Librerias "
   ]
  },
  {
   "cell_type": "code",
   "execution_count": null,
   "id": "210c8d6b",
   "metadata": {},
   "outputs": [],
   "source": [
    "import pandas as pd\n",
    "import numpy as np"
   ]
  }
 ],
 "metadata": {
  "kernelspec": {
   "display_name": "base",
   "language": "python",
   "name": "python3"
  },
  "language_info": {
   "codemirror_mode": {
    "name": "ipython",
    "version": 3
   },
   "file_extension": ".py",
   "mimetype": "text/x-python",
   "name": "python",
   "nbconvert_exporter": "python",
   "pygments_lexer": "ipython3",
   "version": "3.12.4"
  }
 },
 "nbformat": 4,
 "nbformat_minor": 5
}
